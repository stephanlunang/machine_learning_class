{
 "cells": [
  {
   "cell_type": "code",
   "execution_count": 21,
   "metadata": {},
   "outputs": [],
   "source": [
    "import turicreate\n",
    "from pprint import pprint"
   ]
  },
  {
   "cell_type": "code",
   "execution_count": 2,
   "metadata": {},
   "outputs": [],
   "source": [
    "sales = turicreate.SFrame('home_data.sframe/')"
   ]
  },
  {
   "cell_type": "code",
   "execution_count": 10,
   "metadata": {},
   "outputs": [
    {
     "name": "stdout",
     "output_type": "stream",
     "text": [
      "70\n"
     ]
    }
   ],
   "source": [
    "unique_zips = set(sales[\"zipcode\"])\n",
    "\n",
    "print(len(unique_zips))"
   ]
  },
  {
   "cell_type": "code",
   "execution_count": 20,
   "metadata": {},
   "outputs": [],
   "source": [
    "means = [[zipcode, sales.filter_by(zipcode, \"zipcode\")[\"price\"].mean()] for zipcode in unique_zips]"
   ]
  },
  {
   "cell_type": "code",
   "execution_count": 32,
   "metadata": {},
   "outputs": [
    {
     "name": "stdout",
     "output_type": "stream",
     "text": [
      "[['98039', 2160606.6],\n",
      " ['98004', 1355927.0977917982],\n",
      " ['98040', 1194230.003546099],\n",
      " ['98112', 1095499.3680297402],\n",
      " ['98102', 901258.2380952382],\n",
      " ['98109', 879623.623853211],\n",
      " ['98105', 862825.231441048],\n",
      " ['98006', 859684.7630522088],\n",
      " ['98119', 849448.0108695653],\n",
      " ['98005', 810164.8809523812],\n",
      " ['98033', 803719.5324074074],\n",
      " ['98199', 791820.8328075708],\n",
      " ['98075', 790576.6685236767],\n",
      " ['98074', 685605.7755102041],\n",
      " ['98077', 682774.8787878789],\n",
      " ['98053', 678163.0592592595],\n",
      " ['98177', 676185.392156863],\n",
      " ['98008', 645507.3780918729],\n",
      " ['98052', 645231.4529616722],\n",
      " ['98122', 634360.1758620689],\n",
      " ['98115', 619900.5506003432],\n",
      " ['98116', 618634.1787878788],\n",
      " ['98007', 617105.085106383],\n",
      " ['98027', 616990.5873786411],\n",
      " ['98029', 612653.6105919002],\n",
      " ['98144', 594547.641399417],\n",
      " ['98103', 584919.210963455],\n",
      " ['98024', 580526.7901234569],\n",
      " ['98107', 579053.4172932331],\n",
      " ['98117', 576795.0072332731],\n",
      " ['98072', 569958.4578754579],\n",
      " ['98136', 551688.6730038022],\n",
      " ['98065', 527961.2032258064],\n",
      " ['98034', 521652.8587155963],\n",
      " ['98059', 493552.5213675213],\n",
      " ['98011', 490351.46666666673],\n",
      " ['98070', 487479.627118644],\n",
      " ['98125', 469455.7707317074],\n",
      " ['98166', 464231.83858267707],\n",
      " ['98028', 462480.0353356891],\n",
      " ['98014', 455617.1129032257],\n",
      " ['98045', 439471.08144796384],\n",
      " ['98019', 424788.7473684211],\n",
      " ['98126', 424706.3559322033],\n",
      " ['98155', 423725.6950672646],\n",
      " ['98010', 423665.98999999993],\n",
      " ['98056', 420890.54926108377],\n",
      " ['98118', 417637.4330708661],\n",
      " ['98133', 386997.3967611337],\n",
      " ['98038', 366867.6],\n",
      " ['98146', 359483.2395833334],\n",
      " ['98108', 355678.5161290322],\n",
      " ['98058', 353608.6351648352],\n",
      " ['98092', 334921.0626780626],\n",
      " ['98106', 319581.3940298508],\n",
      " ['98022', 315709.30341880344],\n",
      " ['98042', 311632.10583941604],\n",
      " ['98178', 310612.75572519086],\n",
      " ['98055', 304262.10820895527],\n",
      " ['98198', 302878.8821428571],\n",
      " ['98031', 300539.8905109489],\n",
      " ['98030', 296187.98046875],\n",
      " ['98003', 294111.27857142856],\n",
      " ['98188', 289078.3455882353],\n",
      " ['98023', 286732.79158316646],\n",
      " ['98148', 284908.5964912281],\n",
      " ['98001', 280804.69060773484],\n",
      " ['98032', 251296.24],\n",
      " ['98168', 240328.37174721193],\n",
      " ['98002', 234284.0351758794]]\n"
     ]
    }
   ],
   "source": [
    "sorted_list = sorted(means,key=lambda x: x[1], reverse=True)\n",
    "pprint(sorted_list)"
   ]
  },
  {
   "cell_type": "markdown",
   "metadata": {},
   "source": [
    "# 98039 is the zipcode with the highest house value house on avg"
   ]
  },
  {
   "cell_type": "code",
   "execution_count": 33,
   "metadata": {},
   "outputs": [],
   "source": [
    "ballers = sales.filter_by(\"98039\", \"zipcode\")"
   ]
  },
  {
   "cell_type": "code",
   "execution_count": 34,
   "metadata": {},
   "outputs": [],
   "source": [
    "medium_ballers = ballers[(ballers[\"sqft_living\"] > 2000) & (ballers[\"sqft_living\"] < 4000)]"
   ]
  },
  {
   "cell_type": "code",
   "execution_count": 40,
   "metadata": {},
   "outputs": [
    {
     "name": "stdout",
     "output_type": "stream",
     "text": [
      "24\n",
      "50\n",
      "The medium ballers take up 48.0% of the houses in this zip code.\n"
     ]
    }
   ],
   "source": [
    "# print(len(medium_ballers))\n",
    "# print(len(ballers))\n",
    "print(\"The medium ballers take up {}% of the houses in this zip code.\".format((len(medium_ballers)/len(ballers)) * 100))"
   ]
  },
  {
   "cell_type": "code",
   "execution_count": null,
   "metadata": {},
   "outputs": [],
   "source": []
  }
 ],
 "metadata": {
  "kernelspec": {
   "display_name": "Python 3",
   "language": "python",
   "name": "python3"
  },
  "language_info": {
   "codemirror_mode": {
    "name": "ipython",
    "version": 3
   },
   "file_extension": ".py",
   "mimetype": "text/x-python",
   "name": "python",
   "nbconvert_exporter": "python",
   "pygments_lexer": "ipython3",
   "version": "3.7.6"
  }
 },
 "nbformat": 4,
 "nbformat_minor": 4
}
